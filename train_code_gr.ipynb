{
 "cells": [
  {
   "cell_type": "code",
   "execution_count": 1,
   "id": "287085fe",
   "metadata": {
    "ExecuteTime": {
     "end_time": "2022-02-21T17:12:57.652850Z",
     "start_time": "2022-02-21T17:12:47.888764Z"
    }
   },
   "outputs": [],
   "source": [
    "import os\n",
    "\n",
    "import numpy as np\n",
    "import cv2\n",
    "import pandas as pd\n",
    "import tensorflow as tf\n",
    "from tensorflow import keras\n",
    "from tensorflow.keras import layers\n",
    "from tensorflow.keras.losses import Loss\n",
    "from scipy import ndimage\n",
    "from sklearn.model_selection import train_test_split\n",
    "\n",
    "physical_devices = tf.config.experimental.list_physical_devices('GPU')\n",
    "assert len(physical_devices) > 0, \"Not enough GPU hardware devices available\"\n",
    "config = tf.config.experimental.set_memory_growth(physical_devices[0], True)\n",
    "\n",
    "# physical_devices = tf.config.experimental.list_physical_devices('GPU')\n",
    "# assert len(physical_devices) > 0, \"Not enough GPU hardware devices available\"\n",
    "\n",
    "# for i in range(len(physical_devices)):\n",
    "#     config = tf.config.experimental.set_memory_growth(physical_devices[i], True)"
   ]
  },
  {
   "cell_type": "code",
   "execution_count": 2,
   "id": "f8f90320",
   "metadata": {
    "ExecuteTime": {
     "end_time": "2022-02-21T17:13:02.912564Z",
     "start_time": "2022-02-21T17:12:59.666920Z"
    }
   },
   "outputs": [],
   "source": [
    "data_size = 500\n",
    "train_data = np.zeros((data_size,300,300,3), dtype=np.float32)\n",
    "\n",
    "for i in range(0, data_size):\n",
    "    img = keras.preprocessing.image.load_img('final_img/' + str(i) + '.png')\n",
    "    img_arr = keras.preprocessing.image.img_to_array(img)\n",
    "    \n",
    "    train_data[i] = img_arr/255\n",
    "    \n",
    "data = pd.read_csv('reaug_data.csv')\n",
    "pos = data[['ct_px','ct_py','st_px','st_py','ed_px','ed_py','pt_px','pt_py']][:data_size].to_numpy()\n",
    "\n",
    "pos = pos.astype(np.float32)"
   ]
  },
  {
   "cell_type": "code",
   "execution_count": 3,
   "id": "bffd94d3",
   "metadata": {
    "ExecuteTime": {
     "end_time": "2022-02-21T17:13:05.911400Z",
     "start_time": "2022-02-21T17:13:05.896413Z"
    }
   },
   "outputs": [],
   "source": [
    "#conv only\n",
    "def gauge_recognition():\n",
    "    inputs = keras.Input(shape=(300, 300, 3), batch_size=None)\n",
    "    \n",
    "    x = layers.Conv2D(filters=128, kernel_size=(3,3), padding='same')(inputs)\n",
    "    x = layers.MaxPool2D()(x)\n",
    "    x = layers.Activation('relu')(x)\n",
    "    \n",
    "    x = layers.Conv2D(filters=128, kernel_size=(3,3), padding='same')(x)\n",
    "    x = layers.MaxPool2D()(x)\n",
    "    x = layers.Activation('relu')(x)\n",
    "    \n",
    "    x = layers.Conv2D(filters=128, kernel_size=(3,3), padding='same')(x)\n",
    "    x = layers.MaxPool2D()(x)\n",
    "    x = layers.Activation('relu')(x)\n",
    "    \n",
    "    x = layers.Conv2D(filters=128, kernel_size=(3,3), padding='same')(x)\n",
    "    x = layers.MaxPool2D()(x)\n",
    "    x = layers.Activation('relu')(x)\n",
    "    \n",
    "    x = layers.Conv2D(filters=128, kernel_size=(3,3), padding='same')(x)\n",
    "    x = layers.MaxPool2D()(x)\n",
    "    x = layers.Activation('relu')(x)\n",
    "    \n",
    "    x = layers.Conv2D(filters=128, kernel_size=(3,3), padding='same')(x)\n",
    "    x = layers.MaxPool2D()(x)\n",
    "    x = layers.Activation('relu')(x)\n",
    "    \n",
    "    x = layers.Conv2D(filters=128, kernel_size=(3,3), padding='same')(x)\n",
    "    x = layers.MaxPool2D()(x)\n",
    "    x = layers.Activation('relu')(x)\n",
    "    \n",
    "    x = layers.Conv2D(filters=128, kernel_size=(2,2), padding='same')(x)\n",
    "    x = layers.MaxPool2D()(x)\n",
    "    x = layers.Activation('relu')(x)\n",
    "    \n",
    "    x = tf.keras.layers.Flatten()(x)\n",
    "    \n",
    "    x = layers.Dense(512)(x)\n",
    "    x = layers.Dense(256)(x)\n",
    "    x = layers.Dense(128)(x)\n",
    "    x = layers.Dense(64)(x)\n",
    "    x = layers.Dense(32)(x)\n",
    "    x = layers.Dense(16)(x)\n",
    "    outputs = layers.Dense(8)(x)\n",
    "    \n",
    "    \n",
    "    model = keras.Model(inputs=inputs, outputs=outputs, name='gauge_recognition')\n",
    "    \n",
    "    return model"
   ]
  },
  {
   "cell_type": "code",
   "execution_count": 4,
   "id": "504e5552",
   "metadata": {
    "ExecuteTime": {
     "end_time": "2022-02-21T17:14:04.060310Z",
     "start_time": "2022-02-21T17:14:04.043356Z"
    }
   },
   "outputs": [],
   "source": [
    "class CircluarMSE(Loss):\n",
    "    def __init__(self):\n",
    "        super().__init__()\n",
    "        self.weight = 100\n",
    "    \n",
    "    def l2_distance(self, val1, val2):\n",
    "        return tf.math.sqrt(tf.math.square(val1[:,0] - val2[:,0]) + tf.math.square(val1[:,1] - val2[:,1])) \n",
    "    \n",
    "    def call(self, y_true, y_pred):\n",
    "        #어차피 (None,8) 데이터 올것\n",
    "        \n",
    "        st_sim = tf.keras.losses.mean_squared_error(self.l2_distance(y_true[:,0:2],y_true[:,2:4]), \n",
    "                                                    self.l2_distance(y_pred[:,0:2],y_pred[:,2:4]))\n",
    "        \n",
    "        ed_sim = tf.keras.losses.mean_squared_error(self.l2_distance(y_true[:,0:2],y_true[:,4:6]), \n",
    "                                                    self.l2_distance(y_pred[:,0:2],y_pred[:,4:6]))\n",
    "        \n",
    "        pt_sim = tf.keras.losses.mean_squared_error(self.l2_distance(y_true[:,0:2],y_true[:,6:8]), \n",
    "                                                    self.l2_distance(y_pred[:,0:2],y_pred[:,6:8]))\n",
    "        \n",
    "        loss = st_sim + ed_sim + pt_sim + tf.keras.losses.mean_squared_error(y_true, y_pred)\n",
    "        \n",
    "        return loss"
   ]
  },
  {
   "cell_type": "code",
   "execution_count": 5,
   "id": "94b602d9",
   "metadata": {
    "ExecuteTime": {
     "end_time": "2022-02-21T17:14:10.460879Z",
     "start_time": "2022-02-21T17:14:09.185004Z"
    }
   },
   "outputs": [],
   "source": [
    "# strategy = tf.distribute.MultiWorkerMirroredStrategy()\n",
    "# with strategy.scope():\n",
    "model = gauge_recognition()"
   ]
  },
  {
   "cell_type": "code",
   "execution_count": 6,
   "id": "disabled-continuity",
   "metadata": {
    "ExecuteTime": {
     "end_time": "2022-02-21T17:17:20.570368Z",
     "start_time": "2022-02-21T17:14:17.530367Z"
    },
    "scrolled": true
   },
   "outputs": [
    {
     "name": "stdout",
     "output_type": "stream",
     "text": [
      "Epoch 1/50\n",
      "63/63 [==============================] - 12s 67ms/step - loss: 10309.7461 - mse: 7161.3955 - mae: 69.8761\n",
      "Epoch 2/50\n",
      "63/63 [==============================] - 4s 56ms/step - loss: 1911.4689 - mse: 1435.5260 - mae: 29.6060\n",
      "Epoch 3/50\n",
      "63/63 [==============================] - 4s 56ms/step - loss: 1323.4958 - mse: 903.1793 - mae: 22.3827\n",
      "Epoch 4/50\n",
      "63/63 [==============================] - 4s 56ms/step - loss: 1165.3818 - mse: 759.6223 - mae: 20.2789\n",
      "Epoch 5/50\n",
      "63/63 [==============================] - 4s 56ms/step - loss: 985.9345 - mse: 654.3615 - mae: 18.4654\n",
      "Epoch 6/50\n",
      "63/63 [==============================] - 4s 56ms/step - loss: 959.0331 - mse: 653.9253 - mae: 18.4973\n",
      "Epoch 7/50\n",
      "63/63 [==============================] - 3s 55ms/step - loss: 960.6144 - mse: 649.1066 - mae: 18.5004\n",
      "Epoch 8/50\n",
      "63/63 [==============================] - 4s 56ms/step - loss: 837.7167 - mse: 594.1594 - mae: 17.2273\n",
      "Epoch 9/50\n",
      "63/63 [==============================] - 4s 56ms/step - loss: 853.3743 - mse: 622.4169 - mae: 18.1468\n",
      "Epoch 10/50\n",
      "63/63 [==============================] - 4s 56ms/step - loss: 748.2571 - mse: 544.3473 - mae: 16.3113\n",
      "Epoch 11/50\n",
      "63/63 [==============================] - 4s 56ms/step - loss: 715.7444 - mse: 542.0043 - mae: 16.2173\n",
      "Epoch 12/50\n",
      "63/63 [==============================] - 3s 55ms/step - loss: 801.3220 - mse: 594.0515 - mae: 17.5091\n",
      "Epoch 13/50\n",
      "63/63 [==============================] - 3s 55ms/step - loss: 711.9718 - mse: 523.7159 - mae: 15.8939\n",
      "Epoch 14/50\n",
      "63/63 [==============================] - 3s 55ms/step - loss: 663.9739 - mse: 510.4620 - mae: 15.6986\n",
      "Epoch 15/50\n",
      "63/63 [==============================] - 3s 55ms/step - loss: 617.3563 - mse: 483.0677 - mae: 15.2751\n",
      "Epoch 16/50\n",
      "63/63 [==============================] - 3s 55ms/step - loss: 549.8493 - mse: 420.2784 - mae: 13.9798\n",
      "Epoch 17/50\n",
      "63/63 [==============================] - 3s 55ms/step - loss: 513.4711 - mse: 392.3680 - mae: 13.5167\n",
      "Epoch 18/50\n",
      "63/63 [==============================] - 3s 55ms/step - loss: 540.1801 - mse: 396.8420 - mae: 13.8384\n",
      "Epoch 19/50\n",
      "63/63 [==============================] - 3s 54ms/step - loss: 564.3484 - mse: 400.0388 - mae: 14.1075\n",
      "Epoch 20/50\n",
      "63/63 [==============================] - 3s 55ms/step - loss: 512.8875 - mse: 360.4711 - mae: 13.3100\n",
      "Epoch 21/50\n",
      "63/63 [==============================] - 3s 55ms/step - loss: 427.0641 - mse: 298.4195 - mae: 11.9139\n",
      "Epoch 22/50\n",
      "63/63 [==============================] - 3s 55ms/step - loss: 441.8980 - mse: 310.1173 - mae: 12.5153\n",
      "Epoch 23/50\n",
      "63/63 [==============================] - 3s 54ms/step - loss: 455.8208 - mse: 308.8356 - mae: 12.4002\n",
      "Epoch 24/50\n",
      "63/63 [==============================] - 3s 54ms/step - loss: 379.3389 - mse: 264.3719 - mae: 11.3205\n",
      "Epoch 25/50\n",
      "63/63 [==============================] - 3s 54ms/step - loss: 371.7577 - mse: 242.9972 - mae: 10.9683\n",
      "Epoch 26/50\n",
      "63/63 [==============================] - 3s 55ms/step - loss: 434.6653 - mse: 283.7075 - mae: 12.3229\n",
      "Epoch 27/50\n",
      "63/63 [==============================] - 3s 54ms/step - loss: 394.8341 - mse: 247.0882 - mae: 11.5823\n",
      "Epoch 28/50\n",
      "63/63 [==============================] - 3s 55ms/step - loss: 274.3297 - mse: 155.7935 - mae: 9.2307\n",
      "Epoch 29/50\n",
      "63/63 [==============================] - 3s 54ms/step - loss: 274.5583 - mse: 158.0350 - mae: 9.4420\n",
      "Epoch 30/50\n",
      "63/63 [==============================] - 3s 54ms/step - loss: 322.1854 - mse: 181.8781 - mae: 10.2481\n",
      "Epoch 31/50\n",
      "63/63 [==============================] - 3s 54ms/step - loss: 295.8020 - mse: 159.8331 - mae: 9.4133\n",
      "Epoch 32/50\n",
      "63/63 [==============================] - 3s 55ms/step - loss: 281.1520 - mse: 170.3137 - mae: 10.0296\n",
      "Epoch 33/50\n",
      "63/63 [==============================] - 3s 55ms/step - loss: 191.4888 - mse: 112.3482 - mae: 8.1232\n",
      "Epoch 34/50\n",
      "63/63 [==============================] - 3s 55ms/step - loss: 158.3985 - mse: 90.4522 - mae: 7.3311\n",
      "Epoch 35/50\n",
      "63/63 [==============================] - 3s 54ms/step - loss: 156.2878 - mse: 97.6564 - mae: 7.4745\n",
      "Epoch 36/50\n",
      "63/63 [==============================] - 3s 55ms/step - loss: 168.6840 - mse: 103.9706 - mae: 7.8111\n",
      "Epoch 37/50\n",
      "63/63 [==============================] - 3s 55ms/step - loss: 160.8060 - mse: 102.4737 - mae: 7.6808\n",
      "Epoch 38/50\n",
      "63/63 [==============================] - 3s 55ms/step - loss: 105.6743 - mse: 72.9155 - mae: 6.4828\n",
      "Epoch 39/50\n",
      "63/63 [==============================] - 3s 55ms/step - loss: 104.9302 - mse: 70.8938 - mae: 6.5028\n",
      "Epoch 40/50\n",
      "63/63 [==============================] - 3s 55ms/step - loss: 124.5381 - mse: 81.5838 - mae: 6.8116\n",
      "Epoch 41/50\n",
      "63/63 [==============================] - 3s 55ms/step - loss: 191.8868 - mse: 118.4577 - mae: 8.3452\n",
      "Epoch 42/50\n",
      "63/63 [==============================] - 3s 55ms/step - loss: 189.0990 - mse: 119.3467 - mae: 8.2586\n",
      "Epoch 43/50\n",
      "63/63 [==============================] - 3s 55ms/step - loss: 321.9973 - mse: 181.0814 - mae: 10.1932\n",
      "Epoch 44/50\n",
      "63/63 [==============================] - 4s 56ms/step - loss: 233.4565 - mse: 134.3992 - mae: 8.8093\n",
      "Epoch 45/50\n",
      "63/63 [==============================] - 4s 56ms/step - loss: 151.2247 - mse: 93.3291 - mae: 7.3506\n",
      "Epoch 46/50\n",
      "63/63 [==============================] - 3s 55ms/step - loss: 528.2220 - mse: 306.0369 - mae: 13.6361\n",
      "Epoch 47/50\n",
      "63/63 [==============================] - 4s 56ms/step - loss: 451.3892 - mse: 252.5635 - mae: 12.1933\n",
      "Epoch 48/50\n",
      "63/63 [==============================] - 4s 56ms/step - loss: 253.6894 - mse: 145.6444 - mae: 8.9128\n",
      "Epoch 49/50\n",
      "63/63 [==============================] - 4s 56ms/step - loss: 173.3232 - mse: 102.6989 - mae: 7.6856\n",
      "Epoch 50/50\n",
      "63/63 [==============================] - 4s 56ms/step - loss: 90.6405 - mse: 55.9687 - mae: 5.6677\n"
     ]
    },
    {
     "data": {
      "text/plain": [
       "<keras.callbacks.History at 0x1da2a491930>"
      ]
     },
     "execution_count": 6,
     "metadata": {},
     "output_type": "execute_result"
    }
   ],
   "source": [
    "model.compile(optimizer=keras.optimizers.Adam(learning_rate=0.0005),\n",
    "              loss=CircluarMSE(), metrics=['mse', 'mae'])\n",
    "model.fit(train_data[:data_size], pos[:data_size], epochs=50, batch_size=8)"
   ]
  },
  {
   "cell_type": "code",
   "execution_count": 8,
   "id": "given-buddy",
   "metadata": {
    "ExecuteTime": {
     "end_time": "2022-02-21T18:00:26.891787Z",
     "start_time": "2022-02-21T18:00:26.138558Z"
    }
   },
   "outputs": [
    {
     "data": {
      "text/plain": [
       "array([[127.02736, 118.36733,  90.0166 , 158.39038, 162.36392, 156.19872,\n",
       "         75.94934, 108.34983]], dtype=float32)"
      ]
     },
     "execution_count": 8,
     "metadata": {},
     "output_type": "execute_result"
    }
   ],
   "source": [
    "model.predict(train_data[0:1])"
   ]
  },
  {
   "cell_type": "code",
   "execution_count": 15,
   "id": "stuffed-assessment",
   "metadata": {
    "ExecuteTime": {
     "end_time": "2022-02-21T12:06:04.638047Z",
     "start_time": "2022-02-21T12:06:04.630043Z"
    }
   },
   "outputs": [
    {
     "data": {
      "text/plain": [
       "array([125.0289 , 112.259  ,  89.33627, 154.02419, 159.57047, 148.97867,\n",
       "        74.3182 , 105.73653], dtype=float32)"
      ]
     },
     "execution_count": 15,
     "metadata": {},
     "output_type": "execute_result"
    }
   ],
   "source": [
    "pos[0]"
   ]
  },
  {
   "cell_type": "code",
   "execution_count": 7,
   "id": "imported-defensive",
   "metadata": {
    "ExecuteTime": {
     "end_time": "2022-02-21T17:37:43.387277Z",
     "start_time": "2022-02-21T17:34:48.560780Z"
    },
    "scrolled": true
   },
   "outputs": [
    {
     "name": "stdout",
     "output_type": "stream",
     "text": [
      "Epoch 1/50\n",
      "63/63 [==============================] - 4s 56ms/step - loss: 85.0201 - mse: 52.7191 - mae: 5.5243\n",
      "Epoch 2/50\n",
      "63/63 [==============================] - 4s 56ms/step - loss: 77.9691 - mse: 50.6737 - mae: 5.3841\n",
      "Epoch 3/50\n",
      "63/63 [==============================] - 3s 55ms/step - loss: 63.9988 - mse: 41.6260 - mae: 4.8568\n",
      "Epoch 4/50\n",
      "63/63 [==============================] - 4s 56ms/step - loss: 55.8780 - mse: 35.9532 - mae: 4.5051\n",
      "Epoch 5/50\n",
      "63/63 [==============================] - 3s 55ms/step - loss: 75.4603 - mse: 42.9955 - mae: 4.9763\n",
      "Epoch 6/50\n",
      "63/63 [==============================] - 3s 55ms/step - loss: 55.0587 - mse: 33.3292 - mae: 4.4196\n",
      "Epoch 7/50\n",
      "63/63 [==============================] - 3s 55ms/step - loss: 42.7605 - mse: 26.8498 - mae: 3.9308\n",
      "Epoch 8/50\n",
      "63/63 [==============================] - 3s 55ms/step - loss: 46.5890 - mse: 26.7476 - mae: 3.9137\n",
      "Epoch 9/50\n",
      "63/63 [==============================] - 3s 55ms/step - loss: 47.0203 - mse: 28.6831 - mae: 4.1237\n",
      "Epoch 10/50\n",
      "63/63 [==============================] - 4s 56ms/step - loss: 61.7612 - mse: 36.2207 - mae: 4.6235\n",
      "Epoch 11/50\n",
      "63/63 [==============================] - 3s 55ms/step - loss: 72.6041 - mse: 42.3485 - mae: 5.0322\n",
      "Epoch 12/50\n",
      "63/63 [==============================] - 3s 54ms/step - loss: 80.6689 - mse: 41.2041 - mae: 4.7461\n",
      "Epoch 13/50\n",
      "63/63 [==============================] - 3s 55ms/step - loss: 92.5780 - mse: 54.9361 - mae: 5.6395\n",
      "Epoch 14/50\n",
      "63/63 [==============================] - 4s 57ms/step - loss: 102.9884 - mse: 57.8062 - mae: 5.6845\n",
      "Epoch 15/50\n",
      "63/63 [==============================] - 4s 58ms/step - loss: 135.3737 - mse: 69.8286 - mae: 6.3691\n",
      "Epoch 16/50\n",
      "63/63 [==============================] - 4s 58ms/step - loss: 105.1639 - mse: 59.3438 - mae: 5.8649\n",
      "Epoch 17/50\n",
      "63/63 [==============================] - 4s 58ms/step - loss: 132.1060 - mse: 74.2440 - mae: 6.4512\n",
      "Epoch 18/50\n",
      "63/63 [==============================] - 3s 55ms/step - loss: 134.9141 - mse: 73.5636 - mae: 6.5653\n",
      "Epoch 19/50\n",
      "63/63 [==============================] - 4s 56ms/step - loss: 220.5646 - mse: 113.1397 - mae: 7.7093\n",
      "Epoch 20/50\n",
      "63/63 [==============================] - 4s 56ms/step - loss: 109.8124 - mse: 61.0066 - mae: 5.9965\n",
      "Epoch 21/50\n",
      "63/63 [==============================] - 3s 55ms/step - loss: 100.7026 - mse: 57.0322 - mae: 5.8393\n",
      "Epoch 22/50\n",
      "63/63 [==============================] - 3s 55ms/step - loss: 109.5137 - mse: 61.1912 - mae: 5.9264\n",
      "Epoch 23/50\n",
      "63/63 [==============================] - 4s 56ms/step - loss: 63.5597 - mse: 34.7751 - mae: 4.6263\n",
      "Epoch 24/50\n",
      "63/63 [==============================] - 4s 56ms/step - loss: 45.0821 - mse: 23.4724 - mae: 3.6638\n",
      "Epoch 25/50\n",
      "63/63 [==============================] - 3s 55ms/step - loss: 36.5743 - mse: 20.6841 - mae: 3.4948\n",
      "Epoch 26/50\n",
      "63/63 [==============================] - 3s 55ms/step - loss: 46.0720 - mse: 27.4361 - mae: 4.1008\n",
      "Epoch 27/50\n",
      "63/63 [==============================] - 3s 55ms/step - loss: 32.2300 - mse: 17.0112 - mae: 3.1331\n",
      "Epoch 28/50\n",
      "63/63 [==============================] - 3s 54ms/step - loss: 37.7991 - mse: 21.6665 - mae: 3.5462\n",
      "Epoch 29/50\n",
      "63/63 [==============================] - 3s 56ms/step - loss: 71.3841 - mse: 35.8847 - mae: 4.5181\n",
      "Epoch 30/50\n",
      "63/63 [==============================] - 3s 55ms/step - loss: 65.1560 - mse: 33.5515 - mae: 4.4524\n",
      "Epoch 31/50\n",
      "63/63 [==============================] - 3s 55ms/step - loss: 43.8340 - mse: 21.8570 - mae: 3.5888\n",
      "Epoch 32/50\n",
      "63/63 [==============================] - 3s 54ms/step - loss: 84.2186 - mse: 44.4139 - mae: 5.0219\n",
      "Epoch 33/50\n",
      "63/63 [==============================] - 4s 56ms/step - loss: 49.4777 - mse: 26.7589 - mae: 3.8820\n",
      "Epoch 34/50\n",
      "63/63 [==============================] - 4s 56ms/step - loss: 71.0701 - mse: 36.3651 - mae: 4.6331\n",
      "Epoch 35/50\n",
      "63/63 [==============================] - 3s 55ms/step - loss: 122.0951 - mse: 59.9894 - mae: 5.8957\n",
      "Epoch 36/50\n",
      "63/63 [==============================] - 3s 55ms/step - loss: 94.2183 - mse: 47.2864 - mae: 5.1041\n",
      "Epoch 37/50\n",
      "63/63 [==============================] - 3s 55ms/step - loss: 66.8305 - mse: 33.9176 - mae: 4.3934\n",
      "Epoch 38/50\n",
      "63/63 [==============================] - 3s 55ms/step - loss: 64.1625 - mse: 35.9184 - mae: 4.5355\n",
      "Epoch 39/50\n",
      "63/63 [==============================] - 3s 55ms/step - loss: 33.4731 - mse: 16.9843 - mae: 3.0294\n",
      "Epoch 40/50\n",
      "63/63 [==============================] - 3s 55ms/step - loss: 21.9870 - mse: 11.7361 - mae: 2.6346\n",
      "Epoch 41/50\n",
      "63/63 [==============================] - 3s 55ms/step - loss: 30.6013 - mse: 15.2522 - mae: 3.0172\n",
      "Epoch 42/50\n",
      "63/63 [==============================] - 3s 55ms/step - loss: 33.3804 - mse: 17.0579 - mae: 3.1958\n",
      "Epoch 43/50\n",
      "63/63 [==============================] - 3s 55ms/step - loss: 57.3219 - mse: 30.1655 - mae: 4.2263\n",
      "Epoch 44/50\n",
      "63/63 [==============================] - 3s 55ms/step - loss: 214.8397 - mse: 124.8813 - mae: 8.4247\n",
      "Epoch 45/50\n",
      "63/63 [==============================] - 3s 54ms/step - loss: 134.8014 - mse: 62.4569 - mae: 5.9187\n",
      "Epoch 46/50\n",
      "63/63 [==============================] - 3s 54ms/step - loss: 130.2850 - mse: 68.1259 - mae: 5.9015\n",
      "Epoch 47/50\n",
      "63/63 [==============================] - 3s 54ms/step - loss: 143.1921 - mse: 77.4716 - mae: 6.6296\n",
      "Epoch 48/50\n",
      "63/63 [==============================] - 3s 53ms/step - loss: 182.8958 - mse: 83.4438 - mae: 6.9038\n",
      "Epoch 49/50\n",
      "63/63 [==============================] - 3s 54ms/step - loss: 75.6678 - mse: 36.5576 - mae: 4.5780\n",
      "Epoch 50/50\n",
      "63/63 [==============================] - 3s 54ms/step - loss: 80.4987 - mse: 38.5157 - mae: 4.6935\n"
     ]
    },
    {
     "data": {
      "text/plain": [
       "<keras.callbacks.History at 0x1da5e5791b0>"
      ]
     },
     "execution_count": 7,
     "metadata": {},
     "output_type": "execute_result"
    }
   ],
   "source": [
    "model.fit(train_data[:data_size], pos[:data_size], epochs=50, batch_size=8)"
   ]
  },
  {
   "cell_type": "code",
   "execution_count": null,
   "id": "58904c6a",
   "metadata": {},
   "outputs": [],
   "source": []
  }
 ],
 "metadata": {
  "kernelspec": {
   "display_name": "Python 3 (ipykernel)",
   "language": "python",
   "name": "python3"
  },
  "language_info": {
   "codemirror_mode": {
    "name": "ipython",
    "version": 3
   },
   "file_extension": ".py",
   "mimetype": "text/x-python",
   "name": "python",
   "nbconvert_exporter": "python",
   "pygments_lexer": "ipython3",
   "version": "3.10.2"
  },
  "varInspector": {
   "cols": {
    "lenName": 16,
    "lenType": 16,
    "lenVar": 40
   },
   "kernels_config": {
    "python": {
     "delete_cmd_postfix": "",
     "delete_cmd_prefix": "del ",
     "library": "var_list.py",
     "varRefreshCmd": "print(var_dic_list())"
    },
    "r": {
     "delete_cmd_postfix": ") ",
     "delete_cmd_prefix": "rm(",
     "library": "var_list.r",
     "varRefreshCmd": "cat(var_dic_list()) "
    }
   },
   "types_to_exclude": [
    "module",
    "function",
    "builtin_function_or_method",
    "instance",
    "_Feature"
   ],
   "window_display": false
  }
 },
 "nbformat": 4,
 "nbformat_minor": 5
}
