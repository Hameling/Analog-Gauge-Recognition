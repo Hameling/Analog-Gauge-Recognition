{
 "cells": [
  {
   "cell_type": "code",
   "execution_count": 1,
   "id": "319a84f7",
   "metadata": {
    "ExecuteTime": {
     "end_time": "2022-02-08T21:03:42.416677Z",
     "start_time": "2022-02-08T21:03:39.500775Z"
    }
   },
   "outputs": [],
   "source": [
    "import os\n",
    "\n",
    "import numpy as np\n",
    "import cv2\n",
    "import pandas as pd\n",
    "import tensorflow as tf\n",
    "from tensorflow import keras\n",
    "from tensorflow.keras import layers\n",
    "from tensorflow.keras.losses import Loss\n",
    "from scipy import ndimage\n",
    "from sklearn.model_selection import train_test_split\n",
    "\n",
    "physical_devices = tf.config.experimental.list_physical_devices('GPU')\n",
    "assert len(physical_devices) > 0, \"Not enough GPU hardware devices available\"\n",
    "config = tf.config.experimental.set_memory_growth(physical_devices[0], True)"
   ]
  },
  {
   "cell_type": "code",
   "execution_count": 2,
   "id": "f0b6a83c",
   "metadata": {
    "ExecuteTime": {
     "end_time": "2022-02-08T21:03:43.620008Z",
     "start_time": "2022-02-08T21:03:43.240971Z"
    }
   },
   "outputs": [],
   "source": [
    "train_data = np.zeros((110,300,300,3), dtype=np.float32)\n",
    "\n",
    "for i in range(0, 110):\n",
    "    img = keras.preprocessing.image.load_img('Datasets/crop_data/' + str(i) + '.png')\n",
    "    img_arr = keras.preprocessing.image.img_to_array(img)\n",
    "    \n",
    "    train_data[i] = img_arr/255\n",
    "    \n",
    "data = pd.read_csv('Datasets/labels.csv')\n",
    "pair1 = data[['m11','m22']][:110].to_numpy()\n",
    "pair2 = data[['m12','m21']][:110].to_numpy()\n",
    "pair3 = data[['m31','m32']][:110].to_numpy()\n",
    "\n",
    "pair1 = pair1.astype(np.float32)\n",
    "pair2 = pair2.astype(np.float32)\n",
    "pair3 = pair3.astype(np.float32)"
   ]
  },
  {
   "cell_type": "code",
   "execution_count": 2,
   "id": "ed7b597a",
   "metadata": {
    "ExecuteTime": {
     "end_time": "2022-02-08T20:45:53.062579Z",
     "start_time": "2022-02-08T20:45:50.273407Z"
    },
    "scrolled": true
   },
   "outputs": [],
   "source": [
    "train_data = np.zeros((100,1000,1000,3), dtype=np.float32)\n",
    "\n",
    "for i in range(0, 100):\n",
    "    img = keras.preprocessing.image.load_img('Datasets/synthetic_data/' + str(i) + '.png')\n",
    "    img_arr = keras.preprocessing.image.img_to_array(img)\n",
    "    \n",
    "    train_data[i] = img_arr/255"
   ]
  },
  {
   "cell_type": "code",
   "execution_count": 3,
   "id": "9d8f5427",
   "metadata": {
    "ExecuteTime": {
     "end_time": "2022-02-08T21:03:47.095624Z",
     "start_time": "2022-02-08T21:03:47.080003Z"
    },
    "code_folding": [
     0
    ]
   },
   "outputs": [],
   "source": [
    "def perspective_correction():\n",
    "    inputs = keras.Input(shape=(300, 300, 3), batch_size=None)\n",
    "    \n",
    "    #dense_net\n",
    "    x = keras.applications.DenseNet121(include_top=False)(inputs)\n",
    "    \n",
    "    x = layers.Conv2D(filters=128, kernel_size=(3,3), padding='same')(x)\n",
    "    x = layers.MaxPool2D()(x)\n",
    "    x = layers.Activation('relu')(x)\n",
    "    \n",
    "    x = layers.Conv2D(filters=128, kernel_size=(3,3), padding='same')(x)\n",
    "    x = layers.MaxPool2D()(x)\n",
    "    x = layers.Activation('relu')(x)\n",
    "    \n",
    "#     x = layers.Conv2D(filters=128, kernel_size=(3,3), padding='same')(x)\n",
    "#     x = layers.MaxPool2D()(x)\n",
    "#     x = layers.Activation('relu')(x)\n",
    "    \n",
    "#     x = layers.Conv2D(filters=128, kernel_size=(3,3), padding='same')(x)\n",
    "#     x = layers.MaxPool2D()(x)\n",
    "#     x = layers.Activation('relu')(x)\n",
    "    \n",
    "#     x = layers.Conv2D(filters=128, kernel_size=(3,3), padding='same')(x)\n",
    "#     x = layers.MaxPool2D()(x)\n",
    "#     x = layers.Activation('relu')(x)\n",
    "    \n",
    "#     x = layers.Conv2D(filters=128, kernel_size=(3,3), padding='same')(x)\n",
    "#     x = layers.MaxPool2D()(x)\n",
    "#     x = layers.Activation('relu')(x)\n",
    "    \n",
    "#     x = layers.Conv2D(filters=128, kernel_size=(3,3), padding='same')(x)\n",
    "#     x = layers.MaxPool2D()(x)\n",
    "#     x = layers.Activation('relu')(x)\n",
    "    \n",
    "#     x = layers.Conv2D(filters=128, kernel_size=(3,3), padding='same')(x)\n",
    "#     x = layers.MaxPool2D()(x)\n",
    "#     x = layers.Activation('relu')(x)\n",
    "    \n",
    "    x = layers.Conv2D(filters=128, kernel_size=(2,2), padding='same')(x)\n",
    "    x = layers.MaxPool2D()(x)\n",
    "    x = layers.Activation('relu')(x)\n",
    "    \n",
    "    x = tf.keras.layers.Flatten()(x)\n",
    "    \n",
    "    x = layers.Dense(512)(x)\n",
    "    x = layers.Dense(256)(x)\n",
    "    x = layers.Dense(128)(x)\n",
    "    x = layers.Dense(64)(x)\n",
    "    x = layers.Dense(32)(x)\n",
    "    x = layers.Dense(16)(x)\n",
    "    outputs = layers.Dense(2)(x)\n",
    "    \n",
    "    \n",
    "    model = keras.Model(inputs=inputs, outputs=outputs, name='perspective_correction')\n",
    "    \n",
    "    return model"
   ]
  },
  {
   "cell_type": "code",
   "execution_count": 4,
   "id": "5ef29120",
   "metadata": {
    "ExecuteTime": {
     "end_time": "2022-02-08T21:03:50.616145Z",
     "start_time": "2022-02-08T21:03:47.666024Z"
    }
   },
   "outputs": [],
   "source": [
    "model = perspective_correction()"
   ]
  },
  {
   "cell_type": "code",
   "execution_count": 5,
   "id": "0a1fd41f",
   "metadata": {
    "ExecuteTime": {
     "end_time": "2022-02-08T21:06:03.991831Z",
     "start_time": "2022-02-08T21:03:55.397610Z"
    },
    "scrolled": true
   },
   "outputs": [
    {
     "name": "stdout",
     "output_type": "stream",
     "text": [
      "Epoch 1/50\n",
      "25/25 [==============================] - 16s 93ms/step - loss: 18.3384 - mae: 1.7514 - mse: 18.3384\n",
      "Epoch 2/50\n",
      "25/25 [==============================] - 2s 91ms/step - loss: 0.2410 - mae: 0.3796 - mse: 0.2410\n",
      "Epoch 3/50\n",
      "25/25 [==============================] - 2s 91ms/step - loss: 0.0722 - mae: 0.2005 - mse: 0.0722\n",
      "Epoch 4/50\n",
      "25/25 [==============================] - 2s 91ms/step - loss: 0.0436 - mae: 0.1677 - mse: 0.0436\n",
      "Epoch 5/50\n",
      "25/25 [==============================] - 2s 91ms/step - loss: 0.0220 - mae: 0.1107 - mse: 0.0220\n",
      "Epoch 6/50\n",
      "25/25 [==============================] - 2s 92ms/step - loss: 0.0139 - mae: 0.0912 - mse: 0.0139\n",
      "Epoch 7/50\n",
      "25/25 [==============================] - 2s 92ms/step - loss: 0.0093 - mae: 0.0734 - mse: 0.0093\n",
      "Epoch 8/50\n",
      "25/25 [==============================] - 2s 92ms/step - loss: 0.0071 - mae: 0.0648 - mse: 0.0071\n",
      "Epoch 9/50\n",
      "25/25 [==============================] - 2s 92ms/step - loss: 0.0088 - mae: 0.0735 - mse: 0.0088\n",
      "Epoch 10/50\n",
      "25/25 [==============================] - 2s 91ms/step - loss: 0.0078 - mae: 0.0675 - mse: 0.0078\n",
      "Epoch 11/50\n",
      "25/25 [==============================] - 2s 92ms/step - loss: 0.0047 - mae: 0.0529 - mse: 0.0047\n",
      "Epoch 12/50\n",
      "25/25 [==============================] - 2s 91ms/step - loss: 0.0036 - mae: 0.0482 - mse: 0.0036\n",
      "Epoch 13/50\n",
      "25/25 [==============================] - 2s 91ms/step - loss: 0.0045 - mae: 0.0472 - mse: 0.0045\n",
      "Epoch 14/50\n",
      "25/25 [==============================] - 2s 91ms/step - loss: 0.0039 - mae: 0.0479 - mse: 0.0039\n",
      "Epoch 15/50\n",
      "25/25 [==============================] - 2s 91ms/step - loss: 0.0042 - mae: 0.0483 - mse: 0.0042\n",
      "Epoch 16/50\n",
      "25/25 [==============================] - 2s 91ms/step - loss: 0.0037 - mae: 0.0451 - mse: 0.0037\n",
      "Epoch 17/50\n",
      "25/25 [==============================] - 2s 91ms/step - loss: 0.0026 - mae: 0.0396 - mse: 0.0026\n",
      "Epoch 18/50\n",
      "25/25 [==============================] - 2s 91ms/step - loss: 0.0036 - mae: 0.0467 - mse: 0.0036\n",
      "Epoch 19/50\n",
      "25/25 [==============================] - 2s 92ms/step - loss: 0.0032 - mae: 0.0432 - mse: 0.0032\n",
      "Epoch 20/50\n",
      "25/25 [==============================] - 2s 91ms/step - loss: 0.0034 - mae: 0.0451 - mse: 0.0034\n",
      "Epoch 21/50\n",
      "25/25 [==============================] - 2s 90ms/step - loss: 0.0028 - mae: 0.0411 - mse: 0.0028\n",
      "Epoch 22/50\n",
      "25/25 [==============================] - 2s 90ms/step - loss: 0.0024 - mae: 0.0367 - mse: 0.0024\n",
      "Epoch 23/50\n",
      "25/25 [==============================] - 2s 91ms/step - loss: 0.0027 - mae: 0.0402 - mse: 0.0027\n",
      "Epoch 24/50\n",
      "25/25 [==============================] - 2s 91ms/step - loss: 0.0039 - mae: 0.0495 - mse: 0.0039\n",
      "Epoch 25/50\n",
      "25/25 [==============================] - 2s 91ms/step - loss: 0.0038 - mae: 0.0486 - mse: 0.0038\n",
      "Epoch 26/50\n",
      "25/25 [==============================] - 2s 91ms/step - loss: 0.0023 - mae: 0.0378 - mse: 0.0023\n",
      "Epoch 27/50\n",
      "25/25 [==============================] - 2s 91ms/step - loss: 0.0022 - mae: 0.0346 - mse: 0.0022\n",
      "Epoch 28/50\n",
      "25/25 [==============================] - 2s 91ms/step - loss: 0.0026 - mae: 0.0402 - mse: 0.0026\n",
      "Epoch 29/50\n",
      "25/25 [==============================] - 2s 91ms/step - loss: 0.0023 - mae: 0.0372 - mse: 0.0023\n",
      "Epoch 30/50\n",
      "25/25 [==============================] - 2s 91ms/step - loss: 0.0019 - mae: 0.0329 - mse: 0.0019\n",
      "Epoch 31/50\n",
      "25/25 [==============================] - 2s 90ms/step - loss: 0.0016 - mae: 0.0311 - mse: 0.0016\n",
      "Epoch 32/50\n",
      "25/25 [==============================] - 2s 90ms/step - loss: 0.0016 - mae: 0.0304 - mse: 0.0016\n",
      "Epoch 33/50\n",
      "25/25 [==============================] - 2s 91ms/step - loss: 0.0015 - mae: 0.0301 - mse: 0.0015\n",
      "Epoch 34/50\n",
      "25/25 [==============================] - 2s 90ms/step - loss: 0.0018 - mae: 0.0311 - mse: 0.0018\n",
      "Epoch 35/50\n",
      "25/25 [==============================] - 2s 91ms/step - loss: 0.0015 - mae: 0.0303 - mse: 0.0015\n",
      "Epoch 36/50\n",
      "25/25 [==============================] - 2s 91ms/step - loss: 0.0020 - mae: 0.0352 - mse: 0.0020\n",
      "Epoch 37/50\n",
      "25/25 [==============================] - 2s 90ms/step - loss: 0.0015 - mae: 0.0299 - mse: 0.0015\n",
      "Epoch 38/50\n",
      "25/25 [==============================] - 2s 91ms/step - loss: 0.0017 - mae: 0.0321 - mse: 0.0017\n",
      "Epoch 39/50\n",
      "25/25 [==============================] - 2s 90ms/step - loss: 0.0022 - mae: 0.0376 - mse: 0.0022\n",
      "Epoch 40/50\n",
      "25/25 [==============================] - 2s 90ms/step - loss: 0.0013 - mae: 0.0279 - mse: 0.0013\n",
      "Epoch 41/50\n",
      "25/25 [==============================] - 2s 91ms/step - loss: 0.0011 - mae: 0.0250 - mse: 0.0011\n",
      "Epoch 42/50\n",
      "25/25 [==============================] - 2s 91ms/step - loss: 9.2970e-04 - mae: 0.0232 - mse: 9.2970e-04\n",
      "Epoch 43/50\n",
      "25/25 [==============================] - 2s 90ms/step - loss: 7.6255e-04 - mae: 0.0224 - mse: 7.6255e-04\n",
      "Epoch 44/50\n",
      "25/25 [==============================] - 2s 91ms/step - loss: 0.0015 - mae: 0.0317 - mse: 0.0015\n",
      "Epoch 45/50\n",
      "25/25 [==============================] - 2s 93ms/step - loss: 0.0011 - mae: 0.0259 - mse: 0.0011\n",
      "Epoch 46/50\n",
      "25/25 [==============================] - 2s 92ms/step - loss: 0.0011 - mae: 0.0256 - mse: 0.0011\n",
      "Epoch 47/50\n",
      "25/25 [==============================] - 2s 91ms/step - loss: 0.0011 - mae: 0.0258 - mse: 0.0011\n",
      "Epoch 48/50\n",
      "25/25 [==============================] - 2s 92ms/step - loss: 0.0012 - mae: 0.0269 - mse: 0.0012\n",
      "Epoch 49/50\n",
      "25/25 [==============================] - 2s 93ms/step - loss: 7.0929e-04 - mae: 0.0209 - mse: 7.0929e-04\n",
      "Epoch 50/50\n",
      "25/25 [==============================] - 2s 92ms/step - loss: 5.7804e-04 - mae: 0.0182 - mse: 5.7804e-04\n"
     ]
    },
    {
     "data": {
      "text/plain": [
       "<keras.callbacks.History at 0x1edd96cfcd0>"
      ]
     },
     "execution_count": 5,
     "metadata": {},
     "output_type": "execute_result"
    }
   ],
   "source": [
    "model.compile(optimizer=keras.optimizers.Adam(learning_rate=0.0005), loss=keras.losses.MeanSquaredError(),metrics=['mae', 'mse'])\n",
    "model.fit(train_data[:100], pair3[:100], epochs=50, batch_size=4)"
   ]
  },
  {
   "cell_type": "code",
   "execution_count": 6,
   "id": "743e9589",
   "metadata": {
    "ExecuteTime": {
     "end_time": "2022-02-08T21:06:47.657266Z",
     "start_time": "2022-02-08T21:06:12.231825Z"
    }
   },
   "outputs": [
    {
     "name": "stdout",
     "output_type": "stream",
     "text": [
      "INFO:tensorflow:Assets written to: pair3\\assets\n"
     ]
    }
   ],
   "source": [
    "model.save('pair3')"
   ]
  },
  {
   "cell_type": "code",
   "execution_count": 32,
   "id": "a269d9cf",
   "metadata": {
    "ExecuteTime": {
     "end_time": "2022-02-08T20:53:08.985758Z",
     "start_time": "2022-02-08T20:53:08.615714Z"
    }
   },
   "outputs": [
    {
     "data": {
      "text/plain": [
       "array([[0.9860528 , 0.94540364],\n",
       "       [1.0522157 , 0.8978348 ],\n",
       "       [0.9210227 , 0.93840843],\n",
       "       [0.95434827, 0.9766975 ],\n",
       "       [0.84704536, 0.90418065],\n",
       "       [0.9946844 , 0.8443483 ],\n",
       "       [0.7543004 , 0.77132183],\n",
       "       [1.014823  , 0.99236095],\n",
       "       [0.9815399 , 0.95446765],\n",
       "       [1.0461652 , 0.95917267]], dtype=float32)"
      ]
     },
     "execution_count": 32,
     "metadata": {},
     "output_type": "execute_result"
    }
   ],
   "source": [
    "model.predict(train_data[100:])"
   ]
  },
  {
   "cell_type": "code",
   "execution_count": 33,
   "id": "01aaec12",
   "metadata": {
    "ExecuteTime": {
     "end_time": "2022-02-08T20:53:09.636233Z",
     "start_time": "2022-02-08T20:53:09.616315Z"
    }
   },
   "outputs": [
    {
     "data": {
      "text/plain": [
       "array([[1.1082776 , 0.8640194 ],\n",
       "       [1.0552411 , 0.802902  ],\n",
       "       [1.1201586 , 1.0203778 ],\n",
       "       [1.0106126 , 1.0572326 ],\n",
       "       [1.0063453 , 1.0524311 ],\n",
       "       [0.9558921 , 0.89041895],\n",
       "       [0.84658796, 0.8978612 ],\n",
       "       [1.0036443 , 0.8890957 ],\n",
       "       [0.80394083, 0.8479892 ],\n",
       "       [1.1708386 , 0.9976312 ]], dtype=float32)"
      ]
     },
     "execution_count": 33,
     "metadata": {},
     "output_type": "execute_result"
    }
   ],
   "source": [
    "pair1[100:]"
   ]
  },
  {
   "cell_type": "code",
   "execution_count": null,
   "id": "3cc4e039",
   "metadata": {},
   "outputs": [],
   "source": []
  }
 ],
 "metadata": {
  "kernelspec": {
   "display_name": "Python 3 (ipykernel)",
   "language": "python",
   "name": "python3"
  },
  "language_info": {
   "codemirror_mode": {
    "name": "ipython",
    "version": 3
   },
   "file_extension": ".py",
   "mimetype": "text/x-python",
   "name": "python",
   "nbconvert_exporter": "python",
   "pygments_lexer": "ipython3",
   "version": "3.10.2"
  },
  "varInspector": {
   "cols": {
    "lenName": 16,
    "lenType": 16,
    "lenVar": 40
   },
   "kernels_config": {
    "python": {
     "delete_cmd_postfix": "",
     "delete_cmd_prefix": "del ",
     "library": "var_list.py",
     "varRefreshCmd": "print(var_dic_list())"
    },
    "r": {
     "delete_cmd_postfix": ") ",
     "delete_cmd_prefix": "rm(",
     "library": "var_list.r",
     "varRefreshCmd": "cat(var_dic_list()) "
    }
   },
   "types_to_exclude": [
    "module",
    "function",
    "builtin_function_or_method",
    "instance",
    "_Feature"
   ],
   "window_display": false
  }
 },
 "nbformat": 4,
 "nbformat_minor": 5
}
