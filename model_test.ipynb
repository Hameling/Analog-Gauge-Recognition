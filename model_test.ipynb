{
 "cells": [
  {
   "cell_type": "code",
   "execution_count": 1,
   "id": "97af3645",
   "metadata": {
    "ExecuteTime": {
     "end_time": "2022-02-08T21:49:24.396219Z",
     "start_time": "2022-02-08T21:49:21.258476Z"
    }
   },
   "outputs": [],
   "source": [
    "import os\n",
    "\n",
    "import numpy as np\n",
    "import cv2\n",
    "import pandas as pd\n",
    "import tensorflow as tf\n",
    "from tensorflow import keras\n",
    "from tensorflow.keras import layers\n",
    "from tensorflow.keras.losses import Loss\n",
    "from scipy import ndimage\n",
    "from sklearn.model_selection import train_test_split\n",
    "\n",
    "physical_devices = tf.config.experimental.list_physical_devices('GPU')\n",
    "assert len(physical_devices) > 0, \"Not enough GPU hardware devices available\"\n",
    "config = tf.config.experimental.set_memory_growth(physical_devices[0], True)"
   ]
  },
  {
   "cell_type": "code",
   "execution_count": 2,
   "id": "9c98e8b7",
   "metadata": {
    "ExecuteTime": {
     "end_time": "2022-02-08T21:49:58.059340Z",
     "start_time": "2022-02-08T21:49:57.858789Z"
    }
   },
   "outputs": [],
   "source": [
    "train_data = np.zeros((50,300,300,3), dtype=np.float32)\n",
    "for i in range(0, 50):\n",
    "    img = keras.preprocessing.image.load_img('Datasets/crop_data/' + str(i) + '.png')\n",
    "    img_arr = keras.preprocessing.image.img_to_array(img)\n",
    "    \n",
    "    train_data[i] = img_arr/255\n",
    "    \n",
    "data = pd.read_csv('Datasets/labels.csv')\n",
    "pair1 = data[['m11','m22']][:50].to_numpy()\n",
    "pair2 = data[['m12','m21']][:50].to_numpy()\n",
    "pair3 = data[['m31','m32']][:50].to_numpy()\n",
    "\n",
    "pair1 = pair1.astype(np.float32)\n",
    "pair2 = pair2.astype(np.float32)\n",
    "pair3 = pair3.astype(np.float32)"
   ]
  },
  {
   "cell_type": "code",
   "execution_count": 3,
   "id": "c06e0313",
   "metadata": {
    "ExecuteTime": {
     "end_time": "2022-02-08T21:50:46.300403Z",
     "start_time": "2022-02-08T21:49:59.092217Z"
    }
   },
   "outputs": [],
   "source": [
    "pair1_model = keras.models.load_model('pair1')\n",
    "pair2_model = keras.models.load_model('pair2')\n",
    "pair3_model = keras.models.load_model('pair3')"
   ]
  },
  {
   "cell_type": "code",
   "execution_count": 4,
   "id": "11292982",
   "metadata": {
    "ExecuteTime": {
     "end_time": "2022-02-08T21:51:15.020798Z",
     "start_time": "2022-02-08T21:51:04.107527Z"
    }
   },
   "outputs": [],
   "source": [
    "output1 = pair1_model.predict(train_data)\n",
    "output2 = pair2_model.predict(train_data)\n",
    "output3 = pair3_model.predict(train_data)"
   ]
  },
  {
   "cell_type": "code",
   "execution_count": 5,
   "id": "080a146c",
   "metadata": {
    "ExecuteTime": {
     "end_time": "2022-02-08T21:51:16.508671Z",
     "start_time": "2022-02-08T21:51:16.493016Z"
    }
   },
   "outputs": [],
   "source": [
    "f = open('train_result.txt', 'w')\n",
    "\n",
    "for i in range(0,50):\n",
    "    temp = str(output1[i][0]) + ',' + str(output2[i][0]) + ',' + str(output2[i][1]) + ',' + str(output1[i][1]) + ',' + str(output3[i][0]) + ',' + str(output3[i][1]) + '\\n'\n",
    "    f.write(temp)\n",
    "f.close()"
   ]
  },
  {
   "cell_type": "code",
   "execution_count": null,
   "id": "ccb75b5a",
   "metadata": {},
   "outputs": [],
   "source": []
  }
 ],
 "metadata": {
  "kernelspec": {
   "display_name": "Python 3 (ipykernel)",
   "language": "python",
   "name": "python3"
  },
  "language_info": {
   "codemirror_mode": {
    "name": "ipython",
    "version": 3
   },
   "file_extension": ".py",
   "mimetype": "text/x-python",
   "name": "python",
   "nbconvert_exporter": "python",
   "pygments_lexer": "ipython3",
   "version": "3.10.2"
  },
  "varInspector": {
   "cols": {
    "lenName": 16,
    "lenType": 16,
    "lenVar": 40
   },
   "kernels_config": {
    "python": {
     "delete_cmd_postfix": "",
     "delete_cmd_prefix": "del ",
     "library": "var_list.py",
     "varRefreshCmd": "print(var_dic_list())"
    },
    "r": {
     "delete_cmd_postfix": ") ",
     "delete_cmd_prefix": "rm(",
     "library": "var_list.r",
     "varRefreshCmd": "cat(var_dic_list()) "
    }
   },
   "types_to_exclude": [
    "module",
    "function",
    "builtin_function_or_method",
    "instance",
    "_Feature"
   ],
   "window_display": false
  }
 },
 "nbformat": 4,
 "nbformat_minor": 5
}
