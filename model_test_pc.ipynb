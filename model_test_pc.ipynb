{
 "cells": [
  {
   "cell_type": "code",
   "execution_count": 1,
   "id": "97af3645",
   "metadata": {
    "ExecuteTime": {
     "end_time": "2022-02-17T05:02:12.617234Z",
     "start_time": "2022-02-17T05:02:09.356576Z"
    }
   },
   "outputs": [],
   "source": [
    "import os\n",
    "\n",
    "import numpy as np\n",
    "import cv2\n",
    "import pandas as pd\n",
    "import tensorflow as tf\n",
    "from tensorflow import keras\n",
    "from tensorflow.keras import layers\n",
    "from tensorflow.keras.losses import Loss\n",
    "from scipy import ndimage\n",
    "from sklearn.model_selection import train_test_split\n",
    "\n",
    "physical_devices = tf.config.experimental.list_physical_devices('GPU')\n",
    "assert len(physical_devices) > 0, \"Not enough GPU hardware devices available\"\n",
    "config = tf.config.experimental.set_memory_growth(physical_devices[0], True)"
   ]
  },
  {
   "cell_type": "code",
   "execution_count": 2,
   "id": "9c98e8b7",
   "metadata": {
    "ExecuteTime": {
     "end_time": "2022-02-17T05:02:19.011165Z",
     "start_time": "2022-02-17T05:02:15.809523Z"
    }
   },
   "outputs": [],
   "source": [
    "st_idx = 0\n",
    "ed_idx = 1000\n",
    "\n",
    "train_data = np.zeros((ed_idx,300,300,3), dtype=np.float32)\n",
    "for i in range(st_idx, st_idx + ed_idx):\n",
    "    img = keras.preprocessing.image.load_img('Datasets/crop_data/' + str(i) + '.png')\n",
    "    img_arr = keras.preprocessing.image.img_to_array(img)\n",
    "    \n",
    "    train_data[i - st_idx] = img_arr/255\n",
    "    \n",
    "data = pd.read_csv('Datasets/labels.csv')\n",
    "pair1 = data[['m11','m22']][st_idx:st_idx + ed_idx].to_numpy()\n",
    "pair2 = data[['m12','m21']][st_idx:st_idx + ed_idx].to_numpy()\n",
    "pair3 = data[['m31','m32']][st_idx:st_idx + ed_idx].to_numpy()\n",
    "\n",
    "pair1 = pair1.astype(np.float32)\n",
    "pair2 = pair2.astype(np.float32)\n",
    "pair3 = pair3.astype(np.float32)"
   ]
  },
  {
   "cell_type": "code",
   "execution_count": 3,
   "id": "c06e0313",
   "metadata": {
    "ExecuteTime": {
     "end_time": "2022-02-08T21:50:46.300403Z",
     "start_time": "2022-02-08T21:49:59.092217Z"
    }
   },
   "outputs": [],
   "source": [
    "pair1_model = keras.models.load_model('pair1')\n",
    "pair2_model = keras.models.load_model('pair2')\n",
    "pair3_model = keras.models.load_model('pair3')"
   ]
  },
  {
   "cell_type": "code",
   "execution_count": 4,
   "id": "11292982",
   "metadata": {
    "ExecuteTime": {
     "end_time": "2022-02-08T21:51:15.020798Z",
     "start_time": "2022-02-08T21:51:04.107527Z"
    }
   },
   "outputs": [],
   "source": [
    "output1 = pair1_model.predict(train_data)\n",
    "output2 = pair2_model.predict(train_data)\n",
    "output3 = pair3_model.predict(train_data)"
   ]
  },
  {
   "cell_type": "code",
   "execution_count": 5,
   "id": "080a146c",
   "metadata": {
    "ExecuteTime": {
     "end_time": "2022-02-08T21:51:16.508671Z",
     "start_time": "2022-02-08T21:51:16.493016Z"
    }
   },
   "outputs": [],
   "source": [
    "f = open('train_result.txt', 'w')\n",
    "\n",
    "for i in range(0,50):\n",
    "    temp = str(output1[i][0]) + ',' + str(output2[i][0]) + ',' + str(output2[i][1]) + ',' + str(output1[i][1]) + ',' + str(output3[i][0]) + ',' + str(output3[i][1]) + '\\n'\n",
    "    f.write(temp)\n",
    "f.close()"
   ]
  },
  {
   "cell_type": "code",
   "execution_count": 3,
   "id": "ccb75b5a",
   "metadata": {
    "ExecuteTime": {
     "end_time": "2022-02-17T05:02:27.810388Z",
     "start_time": "2022-02-17T05:02:25.097877Z"
    }
   },
   "outputs": [],
   "source": [
    "img2h = keras.models.load_model('img2h_epoch20', compile=False)"
   ]
  },
  {
   "cell_type": "code",
   "execution_count": 5,
   "id": "96aca5b5",
   "metadata": {
    "ExecuteTime": {
     "end_time": "2022-02-17T03:29:28.946605Z",
     "start_time": "2022-02-17T03:29:27.791221Z"
    }
   },
   "outputs": [],
   "source": [
    "outputs = img2h.predict(train_data[:50])"
   ]
  },
  {
   "cell_type": "code",
   "execution_count": 12,
   "id": "e34287e6",
   "metadata": {
    "ExecuteTime": {
     "end_time": "2022-02-13T18:12:46.345324Z",
     "start_time": "2022-02-13T18:12:46.329727Z"
    }
   },
   "outputs": [],
   "source": [
    "# outputs = img2h.predict(train_data)\n",
    "\n",
    "f = open('train_result_epoch20_1000.txt', 'w')\n",
    "\n",
    "for i in range(0,50):\n",
    "    temp = str(outputs[0][i][0]) + ',' + str(outputs[1][i][0]) + ',' + str(outputs[1][i][1]) + ',' + str(outputs[0][i][1]) + ',' + str(outputs[2][i][0]) + ',' + str(outputs[2][i][1]) + '\\n'\n",
    "    f.write(temp)\n",
    "f.close()"
   ]
  },
  {
   "cell_type": "code",
   "execution_count": 4,
   "id": "0443ee24",
   "metadata": {
    "ExecuteTime": {
     "end_time": "2022-02-17T05:02:42.330624Z",
     "start_time": "2022-02-17T05:02:31.705983Z"
    }
   },
   "outputs": [],
   "source": [
    "for i in range(0,1000,50):\n",
    "    outputs = img2h.predict(train_data[i:i+50])\n",
    "    \n",
    "    f = open('train_result_epoch20_1000.txt', 'a')\n",
    "\n",
    "    for i in range(0,50):\n",
    "        temp = str(outputs[0][i][0]) + ',' + str(outputs[1][i][0]) + ',' + str(outputs[1][i][1]) + ',' + str(outputs[0][i][1]) + ',' + str(outputs[2][i][0]) + ',' + str(outputs[2][i][1]) + '\\n'\n",
    "        f.write(temp)\n",
    "    f.close()"
   ]
  },
  {
   "cell_type": "code",
   "execution_count": 6,
   "id": "58e7233d",
   "metadata": {
    "ExecuteTime": {
     "end_time": "2022-02-13T17:57:37.488100Z",
     "start_time": "2022-02-13T17:57:36.503624Z"
    }
   },
   "outputs": [
    {
     "ename": "RuntimeError",
     "evalue": "You must compile your model before training/testing. Use `model.compile(optimizer, loss)`.",
     "output_type": "error",
     "traceback": [
      "\u001b[1;31m---------------------------------------------------------------------------\u001b[0m",
      "\u001b[1;31mRuntimeError\u001b[0m                              Traceback (most recent call last)",
      "Input \u001b[1;32mIn [6]\u001b[0m, in \u001b[0;36m<module>\u001b[1;34m\u001b[0m\n\u001b[0;32m     16\u001b[0m v_pair2 \u001b[38;5;241m=\u001b[39m v_pair2\u001b[38;5;241m.\u001b[39mastype(np\u001b[38;5;241m.\u001b[39mfloat32)\n\u001b[0;32m     17\u001b[0m v_pair3 \u001b[38;5;241m=\u001b[39m v_pair3\u001b[38;5;241m.\u001b[39mastype(np\u001b[38;5;241m.\u001b[39mfloat32)\n\u001b[1;32m---> 19\u001b[0m \u001b[43mimg2h\u001b[49m\u001b[38;5;241;43m.\u001b[39;49m\u001b[43mevaluate\u001b[49m\u001b[43m(\u001b[49m\u001b[43mval_data\u001b[49m\u001b[43m,\u001b[49m\u001b[43m \u001b[49m\u001b[43m{\u001b[49m\u001b[38;5;124;43m'\u001b[39;49m\u001b[38;5;124;43midx1\u001b[39;49m\u001b[38;5;124;43m'\u001b[39;49m\u001b[43m:\u001b[49m\u001b[43mv_pair1\u001b[49m\u001b[43m,\u001b[49m\u001b[43m \u001b[49m\u001b[38;5;124;43m'\u001b[39;49m\u001b[38;5;124;43midx2\u001b[39;49m\u001b[38;5;124;43m'\u001b[39;49m\u001b[43m:\u001b[49m\u001b[43mv_pair2\u001b[49m\u001b[43m,\u001b[49m\u001b[43m \u001b[49m\u001b[38;5;124;43m'\u001b[39;49m\u001b[38;5;124;43midx3\u001b[39;49m\u001b[38;5;124;43m'\u001b[39;49m\u001b[43m:\u001b[49m\u001b[43mv_pair3\u001b[49m\u001b[43m}\u001b[49m\u001b[43m)\u001b[49m\n",
      "File \u001b[1;32m~\\AppData\\Local\\Programs\\Python\\Python310\\lib\\site-packages\\keras\\utils\\traceback_utils.py:67\u001b[0m, in \u001b[0;36mfilter_traceback.<locals>.error_handler\u001b[1;34m(*args, **kwargs)\u001b[0m\n\u001b[0;32m     65\u001b[0m \u001b[38;5;28;01mexcept\u001b[39;00m \u001b[38;5;167;01mException\u001b[39;00m \u001b[38;5;28;01mas\u001b[39;00m e:  \u001b[38;5;66;03m# pylint: disable=broad-except\u001b[39;00m\n\u001b[0;32m     66\u001b[0m   filtered_tb \u001b[38;5;241m=\u001b[39m _process_traceback_frames(e\u001b[38;5;241m.\u001b[39m__traceback__)\n\u001b[1;32m---> 67\u001b[0m   \u001b[38;5;28;01mraise\u001b[39;00m e\u001b[38;5;241m.\u001b[39mwith_traceback(filtered_tb) \u001b[38;5;28;01mfrom\u001b[39;00m \u001b[38;5;28mNone\u001b[39m\n\u001b[0;32m     68\u001b[0m \u001b[38;5;28;01mfinally\u001b[39;00m:\n\u001b[0;32m     69\u001b[0m   \u001b[38;5;28;01mdel\u001b[39;00m filtered_tb\n",
      "File \u001b[1;32m~\\AppData\\Local\\Programs\\Python\\Python310\\lib\\site-packages\\keras\\engine\\training.py:3059\u001b[0m, in \u001b[0;36mModel._assert_compile_was_called\u001b[1;34m(self)\u001b[0m\n\u001b[0;32m   3053\u001b[0m \u001b[38;5;28;01mdef\u001b[39;00m \u001b[38;5;21m_assert_compile_was_called\u001b[39m(\u001b[38;5;28mself\u001b[39m):\n\u001b[0;32m   3054\u001b[0m   \u001b[38;5;66;03m# Checks whether `compile` has been called. If it has been called,\u001b[39;00m\n\u001b[0;32m   3055\u001b[0m   \u001b[38;5;66;03m# then the optimizer is set. This is different from whether the\u001b[39;00m\n\u001b[0;32m   3056\u001b[0m   \u001b[38;5;66;03m# model is compiled\u001b[39;00m\n\u001b[0;32m   3057\u001b[0m   \u001b[38;5;66;03m# (i.e. whether the model is built and its inputs/outputs are set).\u001b[39;00m\n\u001b[0;32m   3058\u001b[0m   \u001b[38;5;28;01mif\u001b[39;00m \u001b[38;5;129;01mnot\u001b[39;00m \u001b[38;5;28mself\u001b[39m\u001b[38;5;241m.\u001b[39m_is_compiled:\n\u001b[1;32m-> 3059\u001b[0m     \u001b[38;5;28;01mraise\u001b[39;00m \u001b[38;5;167;01mRuntimeError\u001b[39;00m(\u001b[38;5;124m'\u001b[39m\u001b[38;5;124mYou must compile your model before \u001b[39m\u001b[38;5;124m'\u001b[39m\n\u001b[0;32m   3060\u001b[0m                        \u001b[38;5;124m'\u001b[39m\u001b[38;5;124mtraining/testing. \u001b[39m\u001b[38;5;124m'\u001b[39m\n\u001b[0;32m   3061\u001b[0m                        \u001b[38;5;124m'\u001b[39m\u001b[38;5;124mUse `model.compile(optimizer, loss)`.\u001b[39m\u001b[38;5;124m'\u001b[39m)\n",
      "\u001b[1;31mRuntimeError\u001b[0m: You must compile your model before training/testing. Use `model.compile(optimizer, loss)`."
     ]
    }
   ],
   "source": [
    "data_size = 500\n",
    "val_data = np.zeros((100,300,300,3), dtype=np.float32)\n",
    "\n",
    "for i in range(data_size, data_size+100):\n",
    "    img = keras.preprocessing.image.load_img('Datasets/crop_data/' + str(i) + '.png')\n",
    "    img_arr = keras.preprocessing.image.img_to_array(img)\n",
    "    \n",
    "    val_data[i - data_size] = img_arr/255\n",
    "\n",
    "v_data = pd.read_csv('Datasets/labels.csv')\n",
    "v_pair1 = v_data[['m11','m22']][data_size:data_size+100].to_numpy()\n",
    "v_pair2 = v_data[['m12','m21']][data_size:data_size+100].to_numpy()\n",
    "v_pair3 = v_data[['m31','m32']][data_size:data_size+100].to_numpy()\n",
    "\n",
    "v_pair1 = v_pair1.astype(np.float32)\n",
    "v_pair2 = v_pair2.astype(np.float32)\n",
    "v_pair3 = v_pair3.astype(np.float32)\n",
    "\n",
    "model.compile(optimizer=keras.optimizers.Adam(learning_rate=0.0005),\n",
    "              loss=keras.losses.MeanSquaredError(),\n",
    "              loss_weights={'idx1':1.0, 'idx2':10.0, 'idx3':1.0 * pow(10,6)})\n",
    "img2h.evaluate(val_data, {'idx1':v_pair1, 'idx2':v_pair2, 'idx3':v_pair3})"
   ]
  },
  {
   "cell_type": "code",
   "execution_count": null,
   "id": "cf77057d",
   "metadata": {},
   "outputs": [],
   "source": []
  }
 ],
 "metadata": {
  "kernelspec": {
   "display_name": "Python 3 (ipykernel)",
   "language": "python",
   "name": "python3"
  },
  "language_info": {
   "codemirror_mode": {
    "name": "ipython",
    "version": 3
   },
   "file_extension": ".py",
   "mimetype": "text/x-python",
   "name": "python",
   "nbconvert_exporter": "python",
   "pygments_lexer": "ipython3",
   "version": "3.10.2"
  },
  "varInspector": {
   "cols": {
    "lenName": 16,
    "lenType": 16,
    "lenVar": 40
   },
   "kernels_config": {
    "python": {
     "delete_cmd_postfix": "",
     "delete_cmd_prefix": "del ",
     "library": "var_list.py",
     "varRefreshCmd": "print(var_dic_list())"
    },
    "r": {
     "delete_cmd_postfix": ") ",
     "delete_cmd_prefix": "rm(",
     "library": "var_list.r",
     "varRefreshCmd": "cat(var_dic_list()) "
    }
   },
   "types_to_exclude": [
    "module",
    "function",
    "builtin_function_or_method",
    "instance",
    "_Feature"
   ],
   "window_display": false
  }
 },
 "nbformat": 4,
 "nbformat_minor": 5
}
